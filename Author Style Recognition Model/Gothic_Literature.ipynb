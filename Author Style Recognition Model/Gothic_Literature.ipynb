{
  "nbformat": 4,
  "nbformat_minor": 0,
  "metadata": {
    "colab": {
      "provenance": [],
      "authorship_tag": "ABX9TyMCb+K2sL37QSZ8PpSij8ZM",
      "include_colab_link": true
    },
    "kernelspec": {
      "name": "python3",
      "display_name": "Python 3"
    },
    "language_info": {
      "name": "python"
    }
  },
  "cells": [
    {
      "cell_type": "markdown",
      "metadata": {
        "id": "view-in-github",
        "colab_type": "text"
      },
      "source": [
        "<a href=\"https://colab.research.google.com/github/snajme/Natural-Language-Processing/blob/main/Gothic_Literature.ipynb\" target=\"_parent\"><img src=\"https://colab.research.google.com/assets/colab-badge.svg\" alt=\"Open In Colab\"/></a>"
      ]
    },
    {
      "cell_type": "code",
      "execution_count": 16,
      "metadata": {
        "id": "M9e1gT9zn3Va"
      },
      "outputs": [],
      "source": [
        "! pip install -q kaggle"
      ]
    },
    {
      "cell_type": "code",
      "source": [
        "from google.colab import files"
      ],
      "metadata": {
        "id": "vRF_Ncmtn9p6"
      },
      "execution_count": 2,
      "outputs": []
    },
    {
      "cell_type": "code",
      "source": [
        "! mkdir ~/.kaggle"
      ],
      "metadata": {
        "colab": {
          "base_uri": "https://localhost:8080/"
        },
        "id": "0b64EfOvoHKX",
        "outputId": "6380dc02-be9a-4631-b49d-280ef12213d2"
      },
      "execution_count": 17,
      "outputs": [
        {
          "output_type": "stream",
          "name": "stdout",
          "text": [
            "mkdir: cannot create directory ‘/root/.kaggle’: File exists\n"
          ]
        }
      ]
    },
    {
      "cell_type": "code",
      "source": [
        "! cp kaggle.json ~/.kaggle/"
      ],
      "metadata": {
        "id": "wm27SdF0oIOL"
      },
      "execution_count": 18,
      "outputs": []
    },
    {
      "cell_type": "code",
      "source": [
        "! chmod 600 ~/.kaggle/kaggle.json"
      ],
      "metadata": {
        "id": "hObZo4Dfo4DT"
      },
      "execution_count": 19,
      "outputs": []
    },
    {
      "cell_type": "code",
      "source": [
        "! kaggle datasets list"
      ],
      "metadata": {
        "colab": {
          "base_uri": "https://localhost:8080/"
        },
        "id": "WQk1ZhMjo8Xd",
        "outputId": "b9df3942-f0f8-41d6-8b6e-dfce71a6554d"
      },
      "execution_count": 20,
      "outputs": [
        {
          "output_type": "stream",
          "name": "stdout",
          "text": [
            "ref                                                        title                                       size  lastUpdated          downloadCount  voteCount  usabilityRating  \n",
            "---------------------------------------------------------  -----------------------------------------  -----  -------------------  -------------  ---------  ---------------  \n",
            "nelgiriyewithana/top-spotify-songs-2023                    Most Streamed Spotify Songs 2023            47KB  2023-08-26 11:04:57          30555        922  1.0              \n",
            "iamsouravbanerjee/customer-shopping-trends-dataset         Customer Shopping Trends Dataset           146KB  2023-10-05 06:45:37           3933         97  1.0              \n",
            "zedataweaver/global-salary-data                            Global Salary Data                           5KB  2023-10-03 00:55:24           1550         42  1.0              \n",
            "nelgiriyewithana/credit-card-fraud-detection-dataset-2023  Credit Card Fraud Detection Dataset 2023   143MB  2023-09-18 10:00:19           5092        176  1.0              \n",
            "nelgiriyewithana/billionaires-statistics-dataset           Billionaires Statistics Dataset (2023)     139KB  2023-09-29 13:39:28           2696         89  1.0              \n",
            "yakhyojon/customer-satisfaction-in-airline                 Customer Satisfaction in Airline             2MB  2023-10-12 09:35:07            553         24  0.9411765        \n",
            "anshtanwar/monthly-food-price-estimates                    Monthly Food Price Inflation                44MB  2023-10-08 05:22:42           1427         38  1.0              \n",
            "asaniczka/wages-by-education-in-the-usa-1973-2022          Wages by Education in the USA (1973-2022)    7KB  2023-10-09 09:43:40            878         29  1.0              \n",
            "willianoliveiragibin/10000-data-about-movies-1915-2023     10,000 Data  about movies (1915 - 2023)      1MB  2023-10-11 19:31:12            667         23  1.0              \n",
            "mohammadrezagim/who-covid-19-global-data                   WHO COVID-19 Global Data Insights            2MB  2023-09-30 14:16:32            567         23  1.0              \n",
            "amirmotefaker/twitter-stock-market-dataset                 Twitter Stock Market Dataset                45KB  2023-10-06 08:26:43            596         27  1.0              \n",
            "alexhuitron/supermarket-sales                              Supermarket Sales                           36KB  2023-10-02 20:42:03           1014         24  0.88235295       \n",
            "zsinghrahulk/tourism-oecd                                  Tourism - OECD                              15KB  2023-10-09 09:52:12            461         24  1.0              \n",
            "ai0909/sales-data-for-company-product                      Sales Data for Company Product              21KB  2023-10-11 13:30:10            764         21  0.7647059        \n",
            "zsinghrahulk/asian-countries-gdp-growth                    Asian countries - GDP growth                16KB  2023-10-09 07:23:31            670         35  0.9411765        \n",
            "asaniczka/us-cost-of-living-dataset-3171-counties          US Cost of Living Dataset (1877 Counties)    1MB  2023-10-08 15:47:47            754         37  1.0              \n",
            "tawfikelmetwally/employee-dataset                          Employee dataset                            19KB  2023-09-06 18:15:55           8144        140  0.9411765        \n",
            "iamsouravbanerjee/heart-attack-prediction-dataset          Heart Attack Risk Prediction Dataset       519KB  2023-09-27 07:07:50           2529         56  1.0              \n",
            "talhabarkaatahmad/laptop-prices-dataset-october-2023       Laptop Prices Dataset - October 2023        63KB  2023-10-09 13:34:58           1005         27  1.0              \n",
            "rajatkumar30/food-delivery-time                            Food Delivery Time                         978KB  2023-10-10 19:38:07            721         22  0.88235295       \n"
          ]
        }
      ]
    },
    {
      "cell_type": "code",
      "source": [
        "! kaggle datasets download charlesaverill/gothic-literature/"
      ],
      "metadata": {
        "colab": {
          "base_uri": "https://localhost:8080/"
        },
        "id": "4-O5gxYVppq_",
        "outputId": "3c1c937c-01c7-446e-cb4c-e2091b1b0a4b"
      },
      "execution_count": 21,
      "outputs": [
        {
          "output_type": "stream",
          "name": "stdout",
          "text": [
            "Downloading gothic-literature.zip to /content\n",
            " 62% 1.00M/1.61M [00:00<00:00, 2.00MB/s]\n",
            "100% 1.61M/1.61M [00:00<00:00, 2.89MB/s]\n"
          ]
        }
      ]
    },
    {
      "cell_type": "code",
      "source": [
        "from google.colab import drive\n",
        "drive.mount('/content/gdrive')"
      ],
      "metadata": {
        "colab": {
          "base_uri": "https://localhost:8080/"
        },
        "id": "McCm_YCDrQzw",
        "outputId": "d79d209a-f155-4367-df03-ea121d260050"
      },
      "execution_count": 22,
      "outputs": [
        {
          "output_type": "stream",
          "name": "stdout",
          "text": [
            "Drive already mounted at /content/gdrive; to attempt to forcibly remount, call drive.mount(\"/content/gdrive\", force_remount=True).\n"
          ]
        }
      ]
    },
    {
      "cell_type": "code",
      "source": [
        "from typing import List\n",
        "import random\n",
        "import numpy as np\n",
        "import pandas as pd\n",
        "import glob\n",
        "from nltk import tokenize, download"
      ],
      "metadata": {
        "id": "BGpS98FRqIKe"
      },
      "execution_count": 23,
      "outputs": []
    },
    {
      "cell_type": "code",
      "source": [
        "!unzip /content/gothic-literature.zip"
      ],
      "metadata": {
        "colab": {
          "base_uri": "https://localhost:8080/"
        },
        "id": "8Uyj8AR_q3OT",
        "outputId": "c737a207-f683-41b4-9ddc-549db191a850"
      },
      "execution_count": 24,
      "outputs": [
        {
          "output_type": "stream",
          "name": "stdout",
          "text": [
            "Archive:  /content/gothic-literature.zip\n",
            "  inflating: castleofotranto.txt     \n",
            "  inflating: doriangray.txt          \n",
            "  inflating: dracula.txt             \n",
            "  inflating: drjekyllmrhyde.txt      \n",
            "  inflating: frankenstein.txt        \n",
            "  inflating: janeeyre.txt            \n",
            "  inflating: phantomoftheopera.txt   \n",
            "  inflating: wutheringheights.txt    \n"
          ]
        }
      ]
    },
    {
      "cell_type": "code",
      "source": [
        "\n",
        "download('punkt')\n"
      ],
      "metadata": {
        "colab": {
          "base_uri": "https://localhost:8080/"
        },
        "id": "F5-JlYgdriP1",
        "outputId": "7298dde7-0522-48fe-9d8f-2d74359e99dd"
      },
      "execution_count": 25,
      "outputs": [
        {
          "output_type": "stream",
          "name": "stderr",
          "text": [
            "[nltk_data] Downloading package punkt to /root/nltk_data...\n",
            "[nltk_data]   Package punkt is already up-to-date!\n"
          ]
        },
        {
          "output_type": "execute_result",
          "data": {
            "text/plain": [
              "True"
            ]
          },
          "metadata": {},
          "execution_count": 25
        }
      ]
    },
    {
      "cell_type": "code",
      "source": [
        "def split_text(filepath: str, min_char: int = 5) -> List[str]:\n",
        "\n",
        "    text = str()\n",
        "    with open(filepath, 'r', encoding='utf8') as file:\n",
        "\n",
        "        # this seperates by line\n",
        "        text = file.read().replace('\\n', '. ')\n",
        "\n",
        "        # this replace multiple characters\n",
        "        text = text.replace('.”', '”.').replace('.\"', '\".').replace('?”', '”?').replace('!”', '”!')\n",
        "        text = text.replace('--', ' ').replace('. . .', '').replace('_', '')\n",
        "\n",
        "    sentences = tokenize.sent_tokenize(text)\n",
        "    sentences = [sentence for sentence in sentences if len(sentence) >= min_char]\n",
        "\n",
        "    return list(sentences)\n",
        ""
      ],
      "metadata": {
        "id": "-wt4jv1drvU0"
      },
      "execution_count": 26,
      "outputs": []
    },
    {
      "cell_type": "code",
      "source": [
        "# reading the files\n",
        "\n",
        "\n",
        "phantomoftheopera = []\n",
        "\n",
        "for path_1 in glob.glob('/content/phantomoftheopera.txt'):\n",
        "    phantomoftheopera += split_text(path_1)\n",
        "\n",
        "\n",
        "doriangray = []\n",
        "for path_2 in glob.glob('/content/doriangray.txt'):\n",
        "    doriangray += split_text(path_2)\n",
        "\n",
        "\n",
        "\n",
        "castleofotranto = []\n",
        "for path_3 in glob.glob('/content/castleofotranto.txt'):\n",
        "    castleofotranto += split_text(path_3)\n",
        ""
      ],
      "metadata": {
        "id": "qa7attrJqO5x"
      },
      "execution_count": 27,
      "outputs": []
    },
    {
      "cell_type": "code",
      "source": [
        "\n",
        "text_dictionary = {'phantom_of_the_opera' :  phantomoftheopera , 'dorian_gray': doriangray ,'castle_of_otranto': castleofotranto }\n",
        "\n",
        "for key in text_dictionary.keys():\n",
        "\n",
        "    print(key, ':', len(text_dictionary[key]), 'sentences')\n",
        ""
      ],
      "metadata": {
        "colab": {
          "base_uri": "https://localhost:8080/"
        },
        "id": "hl-JW16or_EC",
        "outputId": "2f02c2ec-b276-46e6-dbba-1845cc96b4e2"
      },
      "execution_count": 14,
      "outputs": [
        {
          "output_type": "stream",
          "name": "stdout",
          "text": [
            "phantom_of_the_opera : 0 sentences\n",
            "dorian_gray : 0 sentences\n",
            "castle_of_otranto : 0 sentences\n"
          ]
        }
      ]
    },
    {
      "cell_type": "code",
      "source": [
        "\n",
        "# mixing the sentences\n",
        "np.random.seed(1)\n",
        "\n",
        "max_len = 10_0000\n",
        "\n",
        "names = [phantomoftheopera, doriangray, castleofotranto]\n",
        "\n",
        "combined = []\n",
        "\n",
        "for name in names:\n",
        "    name = np.random.choice(name, max_len, replace= True)\n",
        "    combined += list(name)\n",
        "\n",
        "print('Length of combo and internally shuffled list:', len(combined))\n",
        ""
      ],
      "metadata": {
        "colab": {
          "base_uri": "https://localhost:8080/"
        },
        "id": "oGJ-eNZlsCv-",
        "outputId": "c2677df8-4a83-4031-df71-67423a999424"
      },
      "execution_count": 28,
      "outputs": [
        {
          "output_type": "stream",
          "name": "stdout",
          "text": [
            "Length of combo and internally shuffled list: 300000\n"
          ]
        }
      ]
    },
    {
      "cell_type": "code",
      "source": [
        "# this creates a marked list\n",
        "# At this point, we want to indicate the label of the authors\n",
        "labels = ['phantomoftheopera'] * max_len + ['doriangray'] * max_len + ['castleofotranto'] * max_len\n",
        "\n",
        "print('Lnegth of marked list:', len(labels))\n"
      ],
      "metadata": {
        "colab": {
          "base_uri": "https://localhost:8080/"
        },
        "id": "vET03gbbsEdU",
        "outputId": "63aacbb9-6bc0-442e-a523-0a845c3ec931"
      },
      "execution_count": 29,
      "outputs": [
        {
          "output_type": "stream",
          "name": "stdout",
          "text": [
            "Lnegth of marked list: 300000\n"
          ]
        }
      ]
    },
    {
      "cell_type": "code",
      "source": [
        "# lets see if every sentence has a label\n",
        "len(combined) == len(labels)\n"
      ],
      "metadata": {
        "colab": {
          "base_uri": "https://localhost:8080/"
        },
        "id": "FOwTet92sF3U",
        "outputId": "0ad882be-bdf8-49cd-9de6-dc8b7134a748"
      },
      "execution_count": 30,
      "outputs": [
        {
          "output_type": "execute_result",
          "data": {
            "text/plain": [
              "True"
            ]
          },
          "metadata": {},
          "execution_count": 30
        }
      ]
    },
    {
      "cell_type": "code",
      "source": [
        "# here we shuffle the data - sentences\n",
        "random.seed(3)\n",
        "\n",
        "zipped = list(zip(combined, labels))\n",
        "\n",
        "random.shuffle(zipped)\n",
        "\n",
        "combined, labels = zip(*zipped)"
      ],
      "metadata": {
        "id": "YLIbH3ABsHDD"
      },
      "execution_count": 31,
      "outputs": []
    },
    {
      "cell_type": "code",
      "source": [
        "# exporting the resulting dataset\n",
        "output_data = pd.DataFrame()\n",
        "output_data['text'] = combined\n",
        "output_data['author'] = labels\n"
      ],
      "metadata": {
        "id": "_avbuyu6sIeU"
      },
      "execution_count": 32,
      "outputs": []
    },
    {
      "cell_type": "code",
      "source": [
        "print(output_data.head())\n",
        "print(output_data.tail())\n"
      ],
      "metadata": {
        "colab": {
          "base_uri": "https://localhost:8080/"
        },
        "id": "Osda_V_vsKF5",
        "outputId": "dc94853f-5f29-4958-dbbb-951a6fa85558"
      },
      "execution_count": 33,
      "outputs": [
        {
          "output_type": "stream",
          "name": "stdout",
          "text": [
            "                                                text             author\n",
            "0                                         Theodore,.    castleofotranto\n",
            "1                                   said Manfred.. .    castleofotranto\n",
            "2  thing for him to do: to hang himself on the ir...  phantomoftheopera\n",
            "3          priests than by the shrieks of women”.. .    castleofotranto\n",
            "4   These scruples concurred to make the separation.    castleofotranto\n",
            "                                                     text             author\n",
            "299995  the watchet-coloured chamber, on the right han...    castleofotranto\n",
            "299996  and as soon as I had got rid of the intolerabl...         doriangray\n",
            "299997  hearts that they flung to and fro, they had to...  phantomoftheopera\n",
            "299998  unnecessarily and rashly to my father’s resent...    castleofotranto\n",
            "299999                     You know her curiously shrill.         doriangray\n"
          ]
        }
      ]
    },
    {
      "cell_type": "code",
      "source": [
        "output_data.to_csv('author_data.csv', index=False)\n"
      ],
      "metadata": {
        "id": "__QZ_6YxsMgs"
      },
      "execution_count": 34,
      "outputs": []
    },
    {
      "cell_type": "code",
      "source": [
        "# pre-processing\n",
        "import string\n",
        "import time\n",
        "from collections import Counter\n",
        "import seaborn as sns\n",
        "import matplotlib.pyplot as plt\n",
        "import nltk\n",
        "from nltk.stem.porter import PorterStemmer\n"
      ],
      "metadata": {
        "id": "p1mFbqgZsPOE"
      },
      "execution_count": 35,
      "outputs": []
    },
    {
      "cell_type": "code",
      "source": [
        "data = pd.read_csv('author_data.csv', encoding='utf8')\n",
        "print(data.head())\n"
      ],
      "metadata": {
        "colab": {
          "base_uri": "https://localhost:8080/"
        },
        "id": "sLed3UBVsQv0",
        "outputId": "7cd13487-a446-4aaf-b976-6057c3721a37"
      },
      "execution_count": 36,
      "outputs": [
        {
          "output_type": "stream",
          "name": "stdout",
          "text": [
            "                                                text             author\n",
            "0                                         Theodore,.    castleofotranto\n",
            "1                                   said Manfred.. .    castleofotranto\n",
            "2  thing for him to do: to hang himself on the ir...  phantomoftheopera\n",
            "3          priests than by the shrieks of women”.. .    castleofotranto\n",
            "4   These scruples concurred to make the separation.    castleofotranto\n"
          ]
        }
      ]
    },
    {
      "cell_type": "code",
      "source": [
        "text = list(data['text'].values)\n",
        "author = list(data['author'].values)\n",
        "\n",
        "print('Dataset contains {} notes.'.format(len(text)))"
      ],
      "metadata": {
        "colab": {
          "base_uri": "https://localhost:8080/"
        },
        "id": "atlFmEG9sSTA",
        "outputId": "8e5ec506-9a23-4455-cc49-60c220edcdad"
      },
      "execution_count": 37,
      "outputs": [
        {
          "output_type": "stream",
          "name": "stdout",
          "text": [
            "Dataset contains 300000 notes.\n"
          ]
        }
      ]
    },
    {
      "cell_type": "code",
      "source": [
        "# data explorations\n",
        "authors = Counter(author)\n",
        "authors"
      ],
      "metadata": {
        "colab": {
          "base_uri": "https://localhost:8080/"
        },
        "id": "iKgKNE1NsTy1",
        "outputId": "5232892f-ad01-464e-bb96-0c476be44c15"
      },
      "execution_count": 38,
      "outputs": [
        {
          "output_type": "execute_result",
          "data": {
            "text/plain": [
              "Counter({'castleofotranto': 100000,\n",
              "         'phantomoftheopera': 100000,\n",
              "         'doriangray': 100000})"
            ]
          },
          "metadata": {},
          "execution_count": 38
        }
      ]
    },
    {
      "cell_type": "code",
      "source": [
        "#some sentences\n",
        "np.random.seed(73)\n",
        "n = len(text)\n",
        "\n",
        "for _ in range(5):\n",
        "    print(text[np.random.randint(0, n)])"
      ],
      "metadata": {
        "colab": {
          "base_uri": "https://localhost:8080/"
        },
        "id": "L6v3FX3qsVAq",
        "outputId": "d2bc8736-e939-41a1-b557-db60cd6eef41"
      },
      "execution_count": 39,
      "outputs": [
        {
          "output_type": "stream",
          "name": "stdout",
          "text": [
            "One can always find them.\n",
            "\"Little more than a boy!\"\n",
            "his precious soul!\n",
            "for sincerity, I am not tempted to indulge thy vain curiosity farther”.. .\n",
            "But Mauclair did.\n"
          ]
        }
      ]
    },
    {
      "cell_type": "code",
      "source": [
        "# finding the word count - character count - average length\n",
        "word_count = np.array([len(sent.split()) for sent in text])\n",
        "char_count = np.array([len(sent) for sent in text])\n",
        "average_length = char_count / word_count\n"
      ],
      "metadata": {
        "id": "R8Xoghb6sWmp"
      },
      "execution_count": 40,
      "outputs": []
    },
    {
      "cell_type": "code",
      "source": [
        "# median and percentile  - min and max\n",
        "# what does the percentile mean here?\n",
        "\n",
        "def get_stats(var):\n",
        "    print('\\t Min: ', np,min(var))\n",
        "    print('\\t Mmax: ', np.max(var))\n",
        "    print('\\t Average: ', np.mean(var))\n",
        "    print('\\t Median: ', np.median(var))\n",
        "    print('\\t Percentile 1%: ', np.percentile(var, 1))\n",
        "    print('\\t  Percentile 95%: ', np.percentile(var, 95))\n",
        "    print('\\t Percentile 99%: ', np.percentile(var, 99))\n",
        "    print('\\t Percentile 99.5%', np.percentile(var, 99.5))\n",
        "    print('\\t Percentile 99.9%', np.percentile(var, 99.9))\n",
        ""
      ],
      "metadata": {
        "id": "APw6IG1ysX_k"
      },
      "execution_count": 41,
      "outputs": []
    },
    {
      "cell_type": "code",
      "source": [
        "# finding the word count\n",
        "print('Word count statistics:')\n",
        "get_stats(word_count)\n"
      ],
      "metadata": {
        "colab": {
          "base_uri": "https://localhost:8080/"
        },
        "id": "ag1ACT0msaP2",
        "outputId": "95e5bdaf-5a27-49e6-8cf8-84229b34119c"
      },
      "execution_count": 42,
      "outputs": [
        {
          "output_type": "stream",
          "name": "stdout",
          "text": [
            "Word count statistics:\n",
            "\t Min:  <module 'numpy' from '/usr/local/lib/python3.10/dist-packages/numpy/__init__.py'> 1\n",
            "\t Mmax:  43\n",
            "\t Average:  7.79237\n",
            "\t Median:  7.0\n",
            "\t Percentile 1%:  1.0\n",
            "\t  Percentile 95%:  14.0\n",
            "\t Percentile 99%:  22.0\n",
            "\t Percentile 99.5% 25.0\n",
            "\t Percentile 99.9% 28.0\n"
          ]
        }
      ]
    },
    {
      "cell_type": "code",
      "source": [
        "sns.distplot(word_count, kde=True, bins=80, color='green').set_title('Distribution of word count')\n",
        "plt.xlabel('Sentence length in words')\n",
        "plt.ylabel('Number of offers')\n",
        "plt.xlim(0, 100)\n",
        "plt.savefig('word_count.png')\n"
      ],
      "metadata": {
        "colab": {
          "base_uri": "https://localhost:8080/",
          "height": 663
        },
        "id": "iCSOB1b2sbrJ",
        "outputId": "64053909-5ec4-469a-a9bb-310965febff6"
      },
      "execution_count": 43,
      "outputs": [
        {
          "output_type": "stream",
          "name": "stderr",
          "text": [
            "<ipython-input-43-43c21b6edc78>:1: UserWarning: \n",
            "\n",
            "`distplot` is a deprecated function and will be removed in seaborn v0.14.0.\n",
            "\n",
            "Please adapt your code to use either `displot` (a figure-level function with\n",
            "similar flexibility) or `histplot` (an axes-level function for histograms).\n",
            "\n",
            "For a guide to updating your code to use the new functions, please see\n",
            "https://gist.github.com/mwaskom/de44147ed2974457ad6372750bbe5751\n",
            "\n",
            "  sns.distplot(word_count, kde=True, bins=80, color='green').set_title('Distribution of word count')\n"
          ]
        },
        {
          "output_type": "display_data",
          "data": {
            "text/plain": [
              "<Figure size 640x480 with 1 Axes>"
            ],
            "image/png": "[encoded data removed]"
          },
          "metadata": {}
        }
      ]
    },
    {
      "cell_type": "code",
      "source": [
        "# now for the characters\n",
        "print('Character count statistics:')\n",
        "get_stats(char_count)\n"
      ],
      "metadata": {
        "colab": {
          "base_uri": "https://localhost:8080/"
        },
        "id": "FVLk0L8jsd8v",
        "outputId": "7c7ac523-5369-417c-d4e2-7421e4ece3ec"
      },
      "execution_count": 44,
      "outputs": [
        {
          "output_type": "stream",
          "name": "stdout",
          "text": [
            "Character count statistics:\n",
            "\t Min:  <module 'numpy' from '/usr/local/lib/python3.10/dist-packages/numpy/__init__.py'> 5\n",
            "\t Mmax:  212\n",
            "\t Average:  42.43774666666667\n",
            "\t Median:  39.0\n",
            "\t Percentile 1%:  5.0\n",
            "\t  Percentile 95%:  73.0\n",
            "\t Percentile 99%:  125.0\n",
            "\t Percentile 99.5% 140.0\n",
            "\t Percentile 99.9% 146.0\n"
          ]
        }
      ]
    },
    {
      "cell_type": "code",
      "source": [
        "# the distribution of the character count\n",
        "sns.distplot(char_count, kde=True, bins=80, color='red').set_title('Distribution of characters')\n",
        "plt.xlabel('Sentence length in characters')\n",
        "plt.ylabel('Number of sentences')\n",
        "plt.xlim(0, 400)\n",
        "plt.savefig('char_count.png')\n"
      ],
      "metadata": {
        "colab": {
          "base_uri": "https://localhost:8080/",
          "height": 663
        },
        "id": "Hw4kd64QsgR2",
        "outputId": "9fde4e78-087a-4656-e12a-f2be723c73bb"
      },
      "execution_count": 45,
      "outputs": [
        {
          "output_type": "stream",
          "name": "stderr",
          "text": [
            "<ipython-input-45-9e3ddbaf74de>:2: UserWarning: \n",
            "\n",
            "`distplot` is a deprecated function and will be removed in seaborn v0.14.0.\n",
            "\n",
            "Please adapt your code to use either `displot` (a figure-level function with\n",
            "similar flexibility) or `histplot` (an axes-level function for histograms).\n",
            "\n",
            "For a guide to updating your code to use the new functions, please see\n",
            "https://gist.github.com/mwaskom/de44147ed2974457ad6372750bbe5751\n",
            "\n",
            "  sns.distplot(char_count, kde=True, bins=80, color='red').set_title('Distribution of characters')\n"
          ]
        },
        {
          "output_type": "display_data",
          "data": {
            "text/plain": [
              "<Figure size 640x480 with 1 Axes>"
            ],
            "image/png": "[encoded data removed]"
          },
          "metadata": {}
        }
      ]
    },
    {
      "cell_type": "code",
      "source": [
        "print('Average lebgth statistics: ')\n",
        "get_stats(average_length)\n"
      ],
      "metadata": {
        "colab": {
          "base_uri": "https://localhost:8080/"
        },
        "id": "hN8W33ZSsiC8",
        "outputId": "7eca6e97-0e0f-4ac9-88ce-aa1fc7b3cecb"
      },
      "execution_count": 46,
      "outputs": [
        {
          "output_type": "stream",
          "name": "stdout",
          "text": [
            "Average lebgth statistics: \n",
            "\t Min:  <module 'numpy' from '/usr/local/lib/python3.10/dist-packages/numpy/__init__.py'> 2.3333333333333335\n",
            "\t Mmax:  25.0\n",
            "\t Average:  5.602337770202805\n",
            "\t Median:  5.416666666666667\n",
            "\t Percentile 1%:  3.5\n",
            "\t  Percentile 95%:  7.666666666666667\n",
            "\t Percentile 99%:  10.0\n",
            "\t Percentile 99.5% 11.0\n",
            "\t Percentile 99.9% 14.0\n"
          ]
        }
      ]
    },
    {
      "cell_type": "code",
      "source": [
        "# distribution of the average words\n",
        "sns.distplot(average_length, kde=True, bins=80, color='purple').set_title('Distribution of average word length')\n",
        "plt.xlabel('Average word length in characters')\n",
        "plt.ylabel('Number of sentences')\n",
        "plt.xlim(0, 10)\n",
        "plt.savefig('avg_length.png')\n"
      ],
      "metadata": {
        "colab": {
          "base_uri": "https://localhost:8080/",
          "height": 663
        },
        "id": "Zop_JH-ssktk",
        "outputId": "cab47d59-f774-45ee-f3c4-f9e2ca332e60"
      },
      "execution_count": 47,
      "outputs": [
        {
          "output_type": "stream",
          "name": "stderr",
          "text": [
            "<ipython-input-47-91e828c2aa27>:2: UserWarning: \n",
            "\n",
            "`distplot` is a deprecated function and will be removed in seaborn v0.14.0.\n",
            "\n",
            "Please adapt your code to use either `displot` (a figure-level function with\n",
            "similar flexibility) or `histplot` (an axes-level function for histograms).\n",
            "\n",
            "For a guide to updating your code to use the new functions, please see\n",
            "https://gist.github.com/mwaskom/de44147ed2974457ad6372750bbe5751\n",
            "\n",
            "  sns.distplot(average_length, kde=True, bins=80, color='purple').set_title('Distribution of average word length')\n"
          ]
        },
        {
          "output_type": "display_data",
          "data": {
            "text/plain": [
              "<Figure size 640x480 with 1 Axes>"
            ],
            "image/png": "[encoded data removed]"
          },
          "metadata": {}
        }
      ]
    },
    {
      "cell_type": "code",
      "source": [
        "author_names = list(authors.keys())\n",
        "author_names\n"
      ],
      "metadata": {
        "colab": {
          "base_uri": "https://localhost:8080/"
        },
        "id": "_6CQbmiusmwZ",
        "outputId": "b96d68b0-79b7-47d9-eca5-295051cd6692"
      },
      "execution_count": 48,
      "outputs": [
        {
          "output_type": "execute_result",
          "data": {
            "text/plain": [
              "['castleofotranto', 'phantomoftheopera', 'doriangray']"
            ]
          },
          "metadata": {},
          "execution_count": 48
        }
      ]
    },
    {
      "cell_type": "code",
      "source": [
        "# this is the outlier in this text data\n",
        "word_outliers = np.where(word_count > 180)\n",
        "\n",
        "for i in word_outliers[0][:5]:\n",
        "    print('Author: {}, Sentence length: {}'.format(author[i], word_count[i]))\n",
        "    print(text[i], '\\n')\n",
        ""
      ],
      "metadata": {
        "id": "2H7dirH5sn-R"
      },
      "execution_count": 49,
      "outputs": []
    },
    {
      "cell_type": "code",
      "source": [
        "max_authors = {author: 0 for author in author_names}\n",
        "\n",
        "for i in word_outliers[0]:\n",
        "    max_authors[author[i]] += 1\n",
        "\n",
        "Counter(max_authors)\n",
        "\n",
        "#here we did not get the result we wanted!\n",
        "\n",
        ""
      ],
      "metadata": {
        "colab": {
          "base_uri": "https://localhost:8080/"
        },
        "id": "-isyhvAzspLZ",
        "outputId": "040983e9-d6e7-4d61-c5ce-300bb27359e8"
      },
      "execution_count": 50,
      "outputs": [
        {
          "output_type": "execute_result",
          "data": {
            "text/plain": [
              "Counter({'castleofotranto': 0, 'phantomoftheopera': 0, 'doriangray': 0})"
            ]
          },
          "metadata": {},
          "execution_count": 50
        }
      ]
    },
    {
      "cell_type": "code",
      "source": [
        "# finidng the short sentences\n",
        "word_outliers = np.where(word_count < 2)\n",
        "\n",
        "for i in word_outliers[0][:10]:\n",
        "    print('Sentence length: {}'.format(word_count[i]))\n",
        "    print(text[i], '\\n')\n",
        "\n",
        "\n",
        "    # same result - this should change"
      ],
      "metadata": {
        "colab": {
          "base_uri": "https://localhost:8080/"
        },
        "id": "Cll9M2qKsq_W",
        "outputId": "d7d6509c-f8d1-4a6c-c85b-509b4ee0efe3"
      },
      "execution_count": 51,
      "outputs": [
        {
          "output_type": "stream",
          "name": "stdout",
          "text": [
            "Sentence length: 1\n",
            "Theodore,. \n",
            "\n",
            "Sentence length: 1\n",
            "fancy. \n",
            "\n",
            "Sentence length: 1\n",
            "Queen. \n",
            "\n",
            "Sentence length: 1\n",
            "interested. \n",
            "\n",
            "Sentence length: 1\n",
            "stage. \n",
            "\n",
            "Sentence length: 1\n",
            "sweetness. \n",
            "\n",
            "Sentence length: 1\n",
            "barbarism. \n",
            "\n",
            "Sentence length: 1\n",
            "pardon. \n",
            "\n",
            "Sentence length: 1\n",
            "cousin. \n",
            "\n",
            "Sentence length: 1\n",
            "truth! \n",
            "\n"
          ]
        }
      ]
    },
    {
      "cell_type": "code",
      "source": [
        "# fidning the unusual symbols in the text as if we have not found them yet in preprocessing stage\n",
        "\n",
        "text_string = ''\n",
        "for sents in text:\n",
        "    text_string += sents.lower()\n",
        "\n",
        "char_cnt = Counter(text_string)\n",
        "print(char_cnt)\n",
        "print(len(char_cnt), 'unusual symbols in data.')\n"
      ],
      "metadata": {
        "colab": {
          "base_uri": "https://localhost:8080/"
        },
        "id": "8VipELRHstYF",
        "outputId": "b2f87676-4e44-4383-abd1-f1da50ac34d5"
      },
      "execution_count": 52,
      "outputs": [
        {
          "output_type": "stream",
          "name": "stdout",
          "text": [
            "Counter({' ': 2040584, 'e': 1237887, 't': 900366, 'a': 797620, 'o': 766341, 'i': 695744, 'h': 670507, 'n': 642203, 's': 627273, 'r': 601428, 'd': 457615, 'l': 384055, '.': 380367, 'u': 284570, 'm': 270448, 'c': 234353, 'w': 221954, 'f': 217277, 'y': 206106, 'g': 186799, ',': 176182, 'p': 164859, 'b': 138603, 'v': 96035, 'k': 69971, '\"': 59631, '!': 25272, '”': 23290, '“': 22458, \"'\": 18950, '?': 18631, ';': 16715, '-': 13338, 'x': 13026, 'q': 10383, 'j': 10377, '—': 7537, ':': 7440, '’': 6368, 'z': 4634, '1': 811, '7': 394, '2': 301, '5': 293, '[': 270, ']': 270, ')': 242, '8': 238, '(': 228, '0': 224, '9': 205, '3': 143, '4': 138, '‘': 130, '6': 108, '{': 44, '}': 44, 'ï': 22, 'é': 22})\n",
            "59 unusual symbols in data.\n"
          ]
        }
      ]
    },
    {
      "cell_type": "code",
      "source": [
        "# listing the characters - what are the unusual characters\n",
        "print(list(char_cnt.keys()))\n"
      ],
      "metadata": {
        "colab": {
          "base_uri": "https://localhost:8080/"
        },
        "id": "ytv0f71psvYT",
        "outputId": "5db4f7ed-6100-47a0-acfe-eb669148a128"
      },
      "execution_count": 53,
      "outputs": [
        {
          "output_type": "stream",
          "name": "stdout",
          "text": [
            "['t', 'h', 'e', 'o', 'd', 'r', ',', '.', 's', 'a', 'i', ' ', 'm', 'n', 'f', 'g', ':', 'l', '!', 'p', 'b', 'y', 'k', 'w', '”', 'c', 'u', '\"', ';', 'v', 'j', '’', '-', '“', 'z', 'q', \"'\", '?', '—', ')', 'x', '‘', '5', '[', '1', ']', '(', '0', '7', '6', '2', '3', '8', '9', '4', '{', '}', 'ï', 'é']\n"
          ]
        }
      ]
    },
    {
      "cell_type": "code",
      "source": [
        "# what sentences have unusual characters\n",
        "accented_characters = ['f', 'u', 'r', 's', 'i', 'c', 'h', '́', 'n', 'd', 'p', 'e', 'a', 't', 'o', 'l', 'x', 'm', 'j', 'é', 'ô', 'v', 'q', 'ê', 'g', 'b', 'k', 'y', 'à', 'і', 'z', 'w', 'è', 'ó', 'ö', '°', 'ç', 'ï', 'á', 'ü', 'ù', 'û', 'î', 'ѣ', 'â']\n",
        "\n",
        "accented_text = []\n",
        "\n",
        "for i in range(len(text)):\n",
        "    for j in text[i]:\n",
        "        if j in accented_characters:\n",
        "            accented_text.append(i)\n",
        "\n",
        "\n",
        "accented_text = list(set(accented_text))\n",
        "\n",
        "print(len(accented_text), 'sentences contains unusual symbols.')\n",
        ""
      ],
      "metadata": {
        "colab": {
          "base_uri": "https://localhost:8080/"
        },
        "id": "Jh9dVSXasxCA",
        "outputId": "72b5f4a0-b866-4c54-d69d-8cebce5db61e"
      },
      "execution_count": 54,
      "outputs": [
        {
          "output_type": "stream",
          "name": "stdout",
          "text": [
            "298426 sentences contains unusual symbols.\n"
          ]
        }
      ]
    },
    {
      "cell_type": "code",
      "source": [
        "for i in accented_text[:10]:\n",
        "    print('Sentence number {}: '.format(i))\n",
        "    print(text[i], '\\n')\n",
        ""
      ],
      "metadata": {
        "colab": {
          "base_uri": "https://localhost:8080/"
        },
        "id": "MImoP2l9syhC",
        "outputId": "a0b68307-5e48-4bdc-eded-bf404240901b"
      },
      "execution_count": 55,
      "outputs": [
        {
          "output_type": "stream",
          "name": "stdout",
          "text": [
            "Sentence number 0: \n",
            "Theodore,. \n",
            "\n",
            "Sentence number 1: \n",
            "said Manfred.. . \n",
            "\n",
            "Sentence number 2: \n",
            "thing for him to do: to hang himself on the iron tree!. \n",
            "\n",
            "Sentence number 3: \n",
            "priests than by the shrieks of women”.. . \n",
            "\n",
            "Sentence number 4: \n",
            "These scruples concurred to make the separation. \n",
            "\n",
            "Sentence number 5: \n",
            "I shall not. \n",
            "\n",
            "Sentence number 6: \n",
            "\"You know he did, Raoul! \n",
            "\n",
            "Sentence number 7: \n",
            "across to him, and with her little fingers stroked his hair. \n",
            "\n",
            "Sentence number 8: \n",
            "\"We are in a room, a little room; that is what you must keep saying to. \n",
            "\n",
            "Sentence number 9: \n",
            "I am glad we have found. \n",
            "\n"
          ]
        }
      ]
    },
    {
      "cell_type": "code",
      "source": [
        "# data preparation - data pre-processing\n",
        "text = [excerpt.replace('\\xa0', '').replace('\\x7f', '') for excerpt in text]\n"
      ],
      "metadata": {
        "id": "eMLq9fWws1x5"
      },
      "execution_count": 56,
      "outputs": []
    },
    {
      "cell_type": "code",
      "source": [
        "# where indentation is happenning\n",
        "ctr = 0\n",
        "for excerpt in text:\n",
        "    if ' ' in excerpt:\n",
        "        ctr += 1\n",
        "\n",
        "print(ctr, 'occurance of large blocks of indentation.')\n",
        ""
      ],
      "metadata": {
        "colab": {
          "base_uri": "https://localhost:8080/"
        },
        "id": "N3jND-rSs5pN",
        "outputId": "228e2a01-1e09-4df4-e780-739a1ad052e0"
      },
      "execution_count": 57,
      "outputs": [
        {
          "output_type": "stream",
          "name": "stdout",
          "text": [
            "282431 occurance of large blocks of indentation.\n"
          ]
        }
      ]
    },
    {
      "cell_type": "code",
      "source": [
        "new_text = []\n",
        "for excerpt in text:\n",
        "    while '  ' in excerpt:\n",
        "        excerpt = excerpt.replace('  ',' ')\n",
        "    new_text.append(excerpt)\n",
        "\n",
        "text = new_text\n",
        "print(len(text))\n"
      ],
      "metadata": {
        "colab": {
          "base_uri": "https://localhost:8080/"
        },
        "id": "3ZFncuePtEHu",
        "outputId": "b10708ef-b67c-402c-a646-9c087955f07d"
      },
      "execution_count": 58,
      "outputs": [
        {
          "output_type": "stream",
          "name": "stdout",
          "text": [
            "300000\n"
          ]
        }
      ]
    },
    {
      "cell_type": "code",
      "source": [
        "normed_text = []\n",
        "\n",
        "for sent in text:\n",
        "    new = sent.lower()\n",
        "    new = new.translate(str.maketrans('','', string.punctuation))\n",
        "    new = new.replace('“', '').replace('”', '') # english quotes\n",
        "    new = new.replace('‟', '').replace('”', '') # french quotes\n",
        "    new = new.replace('«', '').replace('»', '') # christmas tree quotes\n",
        "    new = new.replace('—', '').replace('–', '') # em dash\n",
        "    new = new.replace('(', '').replace(')', '')\n",
        "    new = new.replace('…', '') # ellipsis as one character\n",
        "\n",
        "    normed_text.append(new)\n",
        "\n",
        "print(normed_text[0:5])\n",
        "print(len(normed_text))"
      ],
      "metadata": {
        "colab": {
          "base_uri": "https://localhost:8080/"
        },
        "id": "LP_-_y40tIDh",
        "outputId": "8b870f1d-7191-4a83-97ae-86c2838e304a"
      },
      "execution_count": 59,
      "outputs": [
        {
          "output_type": "stream",
          "name": "stdout",
          "text": [
            "['theodore', 'said manfred ', 'thing for him to do to hang himself on the iron tree', 'priests than by the shrieks of women ', 'these scruples concurred to make the separation']\n",
            "300000\n"
          ]
        }
      ]
    },
    {
      "cell_type": "code",
      "source": [
        "data['text'] = normed_text\n",
        "\n",
        "data.to_csv('preprocessed_data.csv', index=False)\n"
      ],
      "metadata": {
        "id": "yzjMiJjStP2g"
      },
      "execution_count": 60,
      "outputs": []
    },
    {
      "cell_type": "code",
      "source": [
        "from typing import List\n",
        "from collections import Counter\n",
        "import seaborn as sns\n",
        "import matplotlib.pyplot as plt\n",
        "import string\n",
        "import time\n",
        "\n",
        "from sklearn.model_selection import train_test_split\n",
        "from sklearn.feature_extraction.text import TfidfVectorizer\n",
        "from sklearn.metrics import accuracy_score, confusion_matrix\n",
        "from sklearn.metrics import precision_recall_fscore_support as score\n",
        "from sklearn.preprocessing import LabelBinarizer\n",
        "\n",
        "\n",
        "import keras\n",
        "from keras.models import Model\n",
        "from keras.layers import Input, Dense, Flatten, Dropout, Embedding\n",
        "from keras.layers import Conv1D, MaxPooling1D\n",
        "from keras.layers import concatenate\n",
        "from keras.optimizers import Adam\n",
        "from keras.preprocessing.text import one_hot\n",
        "from keras.callbacks import ModelCheckpoint\n",
        "from scipy import stats\n"
      ],
      "metadata": {
        "id": "P7iJ3feVtVZP"
      },
      "execution_count": 61,
      "outputs": []
    },
    {
      "cell_type": "code",
      "source": [
        "data = pd.read_csv(\"preprocessed_data.csv\", encoding='utf8')\n",
        "print(data.head())\n"
      ],
      "metadata": {
        "colab": {
          "base_uri": "https://localhost:8080/"
        },
        "id": "enj1gbYY5FqV",
        "outputId": "b68d04bd-1513-4a6d-d189-ff217890f82a"
      },
      "execution_count": 62,
      "outputs": [
        {
          "output_type": "stream",
          "name": "stdout",
          "text": [
            "                                                text             author\n",
            "0                                           theodore    castleofotranto\n",
            "1                                      said manfred     castleofotranto\n",
            "2  thing for him to do to hang himself on the iro...  phantomoftheopera\n",
            "3              priests than by the shrieks of women     castleofotranto\n",
            "4    these scruples concurred to make the separation    castleofotranto\n"
          ]
        }
      ]
    },
    {
      "cell_type": "code",
      "source": [
        "\n",
        "normed_text = list(data['text'])\n",
        "author = list(data['author'])\n",
        "\n",
        "authors_names = list(Counter(author).keys())\n",
        "authors_count = len(authors_names)\n",
        "\n",
        "normed_text = [str(i) for i in normed_text]\n"
      ],
      "metadata": {
        "id": "hkoF7T1J67pl"
      },
      "execution_count": 63,
      "outputs": []
    },
    {
      "cell_type": "code",
      "source": [
        "# helper functions - this for the confusion matrix\n",
        "\n",
        "def plot_confusion_matrix(cm, classes: List[str], normalize: bool = False, title: str = 'Confusion matrix', cmap = plt.cm.Greens):\n",
        "\n",
        "    if normalize:\n",
        "      cm = cm.astype('float') / cm.sum(axis=1)[:, np.newaxis]\n",
        "\n",
        "      print('Normalized confusion matrix')\n",
        "\n",
        "    else:\n",
        "\n",
        "      print('Unormalized confusion matrix')\n",
        "\n",
        "    print(cm)\n",
        "\n",
        "    df_cm = pd.DataFrame(cm, index= classes, columns = classes)\n",
        "\n",
        "    sns.heatmap(df_cm, annot=True, cmap=cmap)\n",
        "\n",
        "    plt.ylabel('Right author')\n",
        "\n",
        "    plt.xlabel('Predicated author')\n",
        "\n",
        "    plt.title(title)\n"
      ],
      "metadata": {
        "id": "JxcajkiG77kH"
      },
      "execution_count": 64,
      "outputs": []
    },
    {
      "cell_type": "code",
      "source": [
        "\n",
        "def plot_history_accuracy(history):\n",
        "\n",
        "    plt.plot(history.history['accuracy'])\n",
        "    plt.plot(history.history['val_accuracy'])\n",
        "    plt.title('Model\\'s accuracy')\n",
        "    plt.ylabel('accuracy')\n",
        "    plt.xlabel('epochs')\n",
        "    plt.legend(['teaching data', 'test data'], loc='upper left')\n",
        "\n"
      ],
      "metadata": {
        "id": "wG4Vmr0mCnBu"
      },
      "execution_count": 65,
      "outputs": []
    },
    {
      "cell_type": "code",
      "source": [
        "\n",
        "def plot_hsitory_of_loss(history):\n",
        "    plt.plot(history.history['loss'])\n",
        "    plt.plot(history.history['val_loss'])\n",
        "    plt.title('Model\\'s error')\n",
        "    plt.ylabel('error')\n",
        "    plt.xlabel('epochs')\n",
        "    plt.legend(['teaching data', 'test data'], loc='upper left')\n"
      ],
      "metadata": {
        "id": "FfbmgLH7DKVn"
      },
      "execution_count": 66,
      "outputs": []
    },
    {
      "cell_type": "code",
      "source": [
        "# spliting the data\n",
        "text_train, text_test, author_train, author_test = train_test_split(normed_text, author, test_size=0.2, random_state=5)\n"
      ],
      "metadata": {
        "id": "aWg3k8-bDmOa"
      },
      "execution_count": 67,
      "outputs": []
    },
    {
      "cell_type": "code",
      "source": [
        "print(np.shape(text_train))\n",
        "print(np.shape(text_test))\n",
        "print(np.shape(author_train))\n",
        "print(np.shape(author_test))\n"
      ],
      "metadata": {
        "colab": {
          "base_uri": "https://localhost:8080/"
        },
        "id": "m7C9T59oD1ES",
        "outputId": "baa5a466-775e-4695-ea6f-3ed113b34b9f"
      },
      "execution_count": 68,
      "outputs": [
        {
          "output_type": "stream",
          "name": "stdout",
          "text": [
            "(240000,)\n",
            "(60000,)\n",
            "(240000,)\n",
            "(60000,)\n"
          ]
        }
      ]
    },
    {
      "cell_type": "code",
      "source": [
        "def create_n_grams(excerpt_list: List[str], n:int, vocab_size: int, seq_size: int):\n",
        "\n",
        "  n_gram_list = []\n",
        "\n",
        "\n",
        "  for excerpt in excerpt_list:\n",
        "\n",
        "    excerpt = excerpt.replace(\" \", \"\")\n",
        "\n",
        "    n_grams = [excerpt[i: i+n] for i in range(len(excerpt) - n + 1)]\n",
        "\n",
        "\n",
        "    new_string = \" \".join(n_grams)\n",
        "\n",
        "    hot = one_hot(new_string, round(vocab_size * 1.3))\n",
        "\n",
        "    hot_len = len(hot)\n",
        "\n",
        "    if hot_len >= seq_size:\n",
        "\n",
        "      hot = hot[0:seq_size]\n",
        "\n",
        "    else:\n",
        "\n",
        "      diff = seq_size - hot_len\n",
        "\n",
        "      extra = [0]* diff\n",
        "\n",
        "      hot = hot + extra\n",
        "\n",
        "    n_gram_list.append(hot)\n",
        "\n",
        "  n_gram_array = np.array(n_gram_list)\n",
        "\n",
        "  return n_gram_array\n",
        "\n",
        "\n"
      ],
      "metadata": {
        "id": "gSH8-WeTI6oi"
      },
      "execution_count": 69,
      "outputs": []
    },
    {
      "cell_type": "code",
      "source": [
        "def get_vocab_size(excerpt_list: List[str], n: int, seq_size: int) -> int:\n",
        "    n_gram_list = []\n",
        "\n",
        "    for excerpt in excerpt_list:\n",
        "        excerpt = excerpt.replace(\" \", \"\")\n",
        "\n",
        "        n_grams = [excerpt[i:i + n] for i in range(len(excerpt) - n + 1)]\n",
        "\n",
        "        gram_len = len(n_grams)\n",
        "\n",
        "        if gram_len >= seq_size:\n",
        "\n",
        "            n_grams = n_grams[0:seq_size]\n",
        "        else:\n",
        "            diff = seq_size - gram_len\n",
        "\n",
        "            extra = [0]*diff\n",
        "\n",
        "            n_grams = n_grams + extra\n",
        "\n",
        "        n_gram_list.append(n_grams)\n",
        "\n",
        "    n_gram_list = list(np.array(n_gram_list).flat)\n",
        "\n",
        "    n_gram_cnt = Counter(n_gram_list)\n",
        "    vocab_size = len(n_gram_cnt)\n",
        "\n",
        "    return vocab_size"
      ],
      "metadata": {
        "id": "6WhNxlB-KP8Z"
      },
      "execution_count": 70,
      "outputs": []
    },
    {
      "cell_type": "code",
      "source": [
        "vocab_sizes = []\n",
        "for i in range(1, 4):\n",
        "    vocab_sizes.append(get_vocab_size(text_train, i, 50))\n",
        "    print('Size for n =', i, 'is:', vocab_sizes[i - 1])\n",
        ""
      ],
      "metadata": {
        "colab": {
          "base_uri": "https://localhost:8080/"
        },
        "id": "E5EpuGb1Yf7W",
        "outputId": "b3dd7f99-5b29-4dde-fe3b-0cd038b13f9a"
      },
      "execution_count": 71,
      "outputs": [
        {
          "output_type": "stream",
          "name": "stdout",
          "text": [
            "Size for n = 1 is: 40\n",
            "Size for n = 2 is: 755\n",
            "Size for n = 3 is: 7095\n"
          ]
        }
      ]
    },
    {
      "cell_type": "code",
      "source": [
        "gram1_train = create_n_grams(text_train, 1, vocab_sizes[0], 50)\n",
        "gram2_train = create_n_grams(text_train, 2, vocab_sizes[1], 50)\n",
        "gram3_train = create_n_grams(text_train, 3, vocab_sizes[2], 50)\n"
      ],
      "metadata": {
        "id": "v_YXf3eMhkov"
      },
      "execution_count": 72,
      "outputs": []
    },
    {
      "cell_type": "code",
      "source": [
        "gram1_test = create_n_grams(text_test, 1, vocab_sizes[0], 50)\n",
        "gram2_test = create_n_grams(text_test, 2, vocab_sizes[1], 50)\n",
        "gram3_test = create_n_grams(text_test, 3, vocab_sizes[2], 50)\n"
      ],
      "metadata": {
        "id": "T8hh2p0kipDn"
      },
      "execution_count": 73,
      "outputs": []
    },
    {
      "cell_type": "code",
      "source": [
        "print(np.shape(gram1_train))\n",
        "print(np.shape(gram2_train))\n",
        "print(np.shape(gram3_train))\n",
        "\n",
        "print(np.shape(gram1_test))\n",
        "print(np.shape(gram2_test))\n",
        "print(np.shape(gram3_test))\n"
      ],
      "metadata": {
        "colab": {
          "base_uri": "https://localhost:8080/"
        },
        "id": "HI7uba53jJBm",
        "outputId": "6b7aa7fd-60cf-48d3-e8e1-e4b6a75161b2"
      },
      "execution_count": 74,
      "outputs": [
        {
          "output_type": "stream",
          "name": "stdout",
          "text": [
            "(240000, 50)\n",
            "(240000, 50)\n",
            "(240000, 50)\n",
            "(60000, 50)\n",
            "(60000, 50)\n",
            "(60000, 50)\n"
          ]
        }
      ]
    },
    {
      "cell_type": "code",
      "source": [
        "max_1gram = np.max(gram1_train)\n",
        "max_2gram = np.max(gram2_train)\n",
        "max_3gram = np.max(gram2_train)\n",
        "\n",
        "print('Max value for 1-gramms: ', max_1gram)\n",
        "print('Max value for bigramms: ', max_2gram)\n",
        "print('Max value for trigramms: ', max_3gram)\n"
      ],
      "metadata": {
        "colab": {
          "base_uri": "https://localhost:8080/"
        },
        "id": "TS1od_Lbne_t",
        "outputId": "f8e531ef-a3fa-49d7-f3b5-911bac050283"
      },
      "execution_count": 75,
      "outputs": [
        {
          "output_type": "stream",
          "name": "stdout",
          "text": [
            "Max value for 1-gramms:  51\n",
            "Max value for bigramms:  981\n",
            "Max value for trigramms:  981\n"
          ]
        }
      ]
    },
    {
      "cell_type": "code",
      "source": [
        "# vectorization\n",
        "preprocessed_train = text_train\n",
        "preprocessed_test = text_test\n",
        "\n",
        "print(preprocessed_train[0:5])"
      ],
      "metadata": {
        "colab": {
          "base_uri": "https://localhost:8080/"
        },
        "id": "TUmXWdqBn6VX",
        "outputId": "e8890c49-959e-4271-c6b5-951c52e55be7"
      },
      "execution_count": 76,
      "outputs": [
        {
          "output_type": "stream",
          "name": "stdout",
          "text": [
            "['edition of the globe that i picked up at the club', 'was dead', 'but frederic your lord is', 'offended you', 'we women as some']\n"
          ]
        }
      ]
    },
    {
      "cell_type": "code",
      "source": [
        "\n",
        "vectorizer = TfidfVectorizer(strip_accents='unicode', min_df=6)\n",
        "vectorizer.fit(preprocessed_train)\n",
        "\n",
        "print('Dictionary size: ', len(vectorizer.vocabulary_))\n",
        "\n",
        "word_train = vectorizer.transform(preprocessed_train)\n",
        "word_test = vectorizer.transform(preprocessed_test)\n"
      ],
      "metadata": {
        "colab": {
          "base_uri": "https://localhost:8080/"
        },
        "id": "lVVg0EgnoXY8",
        "outputId": "1afeb53e-491a-43b4-fbd4-910faf1ea087"
      },
      "execution_count": 77,
      "outputs": [
        {
          "output_type": "stream",
          "name": "stdout",
          "text": [
            "Dictionary size:  11281\n"
          ]
        }
      ]
    },
    {
      "cell_type": "code",
      "source": [
        "\n",
        "author_lb = LabelBinarizer()\n",
        "author_lb.fit(author_train)\n",
        "\n",
        "author_train_hot = author_lb.transform(author_train)\n",
        "author_test_hot = author_lb.transform(author_test)\n"
      ],
      "metadata": {
        "id": "FaE8Tq0zpSKv"
      },
      "execution_count": 78,
      "outputs": []
    },
    {
      "cell_type": "code",
      "source": [
        "\n",
        "def define_model(input_len: int, output_size: int, vocab_size : int, embedding_dim: int, verbose: bool = True,\n",
        "                drop_out_pct: float = 0.25, conv_filters: int = 500, activation_fn: str = 'relu', pool_size: int = 2, learning: float = 0.0001):\n",
        "    inputs1 = Input(shape=(input_len,))\n",
        "    embedding1 = Embedding(vocab_size, embedding_dim)(inputs1)\n",
        "    drop1 = Dropout(drop_out_pct)(embedding1)\n",
        "    conv1 = Conv1D(filters=conv_filters, kernel_size=3, activation=activation_fn)(drop1)\n",
        "    pool1 = MaxPooling1D(pool_size=pool_size)(conv1)\n",
        "    flat1 = Flatten()(pool1)\n",
        "\n",
        "    inputs2 = Input(shape=(input_len,))\n",
        "    embedding2 = Embedding(vocab_size, embedding_dim)(inputs2)\n",
        "    drop2 = Dropout(drop_out_pct)(embedding2)\n",
        "    conv2 = Conv1D(filters=conv_filters, kernel_size=4, activation=activation_fn)(drop2)\n",
        "    pool2 = MaxPooling1D(pool_size=pool_size)(conv2)\n",
        "    flat2 = Flatten()(pool2)\n",
        "\n",
        "    inputs3 = Input(shape=(input_len,))\n",
        "    embedding3= Embedding(vocab_size, embedding_dim)(inputs3)\n",
        "    drop3 = Dropout(drop_out_pct)(embedding3)\n",
        "    conv3 = Conv1D(filters=conv_filters, kernel_size=5, activation=activation_fn)(drop3)\n",
        "    pool3 = MaxPooling1D(pool_size=pool_size)(conv3)\n",
        "    flat3 = Flatten()(pool3)\n",
        "\n",
        "    merged = concatenate([flat1, flat2, flat3])\n",
        "\n",
        "    output = Dense(output_size, activation='softmax')(merged)\n",
        "\n",
        "    model = Model(inputs=[inputs1, inputs2, inputs3], outputs=output)\n",
        "\n",
        "    model.compile(loss='categorical_crossentropy', optimizer=Adam(lr=learning), metrics=['accuracy'])\n",
        "\n",
        "    if verbose:\n",
        "        print(model.summary())\n",
        "\n",
        "    return model\n",
        "\n",
        ""
      ],
      "metadata": {
        "id": "vVR0VuJappXX"
      },
      "execution_count": 79,
      "outputs": []
    },
    {
      "cell_type": "code",
      "source": [
        "gram1_model = define_model(50, authors_count, max_1gram + 1, 26)"
      ],
      "metadata": {
        "colab": {
          "base_uri": "https://localhost:8080/"
        },
        "id": "IVgZ886WKoIb",
        "outputId": "5fc853ec-f379-4995-d0fb-e61bb1689ea7"
      },
      "execution_count": 80,
      "outputs": [
        {
          "output_type": "stream",
          "name": "stderr",
          "text": [
            "WARNING:absl:`lr` is deprecated in Keras optimizer, please use `learning_rate` or use the legacy optimizer, e.g.,tf.keras.optimizers.legacy.Adam.\n"
          ]
        },
        {
          "output_type": "stream",
          "name": "stdout",
          "text": [
            "Model: \"model\"\n",
            "__________________________________________________________________________________________________\n",
            " Layer (type)                Output Shape                 Param #   Connected to                  \n",
            "==================================================================================================\n",
            " input_1 (InputLayer)        [(None, 50)]                 0         []                            \n",
            "                                                                                                  \n",
            " input_2 (InputLayer)        [(None, 50)]                 0         []                            \n",
            "                                                                                                  \n",
            " input_3 (InputLayer)        [(None, 50)]                 0         []                            \n",
            "                                                                                                  \n",
            " embedding (Embedding)       (None, 50, 26)               1352      ['input_1[0][0]']             \n",
            "                                                                                                  \n",
            " embedding_1 (Embedding)     (None, 50, 26)               1352      ['input_2[0][0]']             \n",
            "                                                                                                  \n",
            " embedding_2 (Embedding)     (None, 50, 26)               1352      ['input_3[0][0]']             \n",
            "                                                                                                  \n",
            " dropout (Dropout)           (None, 50, 26)               0         ['embedding[0][0]']           \n",
            "                                                                                                  \n",
            " dropout_1 (Dropout)         (None, 50, 26)               0         ['embedding_1[0][0]']         \n",
            "                                                                                                  \n",
            " dropout_2 (Dropout)         (None, 50, 26)               0         ['embedding_2[0][0]']         \n",
            "                                                                                                  \n",
            " conv1d (Conv1D)             (None, 48, 500)              39500     ['dropout[0][0]']             \n",
            "                                                                                                  \n",
            " conv1d_1 (Conv1D)           (None, 47, 500)              52500     ['dropout_1[0][0]']           \n",
            "                                                                                                  \n",
            " conv1d_2 (Conv1D)           (None, 46, 500)              65500     ['dropout_2[0][0]']           \n",
            "                                                                                                  \n",
            " max_pooling1d (MaxPooling1  (None, 24, 500)              0         ['conv1d[0][0]']              \n",
            " D)                                                                                               \n",
            "                                                                                                  \n",
            " max_pooling1d_1 (MaxPoolin  (None, 23, 500)              0         ['conv1d_1[0][0]']            \n",
            " g1D)                                                                                             \n",
            "                                                                                                  \n",
            " max_pooling1d_2 (MaxPoolin  (None, 23, 500)              0         ['conv1d_2[0][0]']            \n",
            " g1D)                                                                                             \n",
            "                                                                                                  \n",
            " flatten (Flatten)           (None, 12000)                0         ['max_pooling1d[0][0]']       \n",
            "                                                                                                  \n",
            " flatten_1 (Flatten)         (None, 11500)                0         ['max_pooling1d_1[0][0]']     \n",
            "                                                                                                  \n",
            " flatten_2 (Flatten)         (None, 11500)                0         ['max_pooling1d_2[0][0]']     \n",
            "                                                                                                  \n",
            " concatenate (Concatenate)   (None, 35000)                0         ['flatten[0][0]',             \n",
            "                                                                     'flatten_1[0][0]',           \n",
            "                                                                     'flatten_2[0][0]']           \n",
            "                                                                                                  \n",
            " dense (Dense)               (None, 3)                    105003    ['concatenate[0][0]']         \n",
            "                                                                                                  \n",
            "==================================================================================================\n",
            "Total params: 266559 (1.02 MB)\n",
            "Trainable params: 266559 (1.02 MB)\n",
            "Non-trainable params: 0 (0.00 Byte)\n",
            "__________________________________________________________________________________________________\n",
            "None\n"
          ]
        }
      ]
    },
    {
      "cell_type": "code",
      "source": [
        "gram1_model_history = gram1_model.fit([gram1_train, gram1_train, gram1_train], author_train_hot, epochs=10, batch_size=32, verbose=1, validation_split = 0.2)"
      ],
      "metadata": {
        "colab": {
          "base_uri": "https://localhost:8080/"
        },
        "id": "KDuOTLc3K1CV",
        "outputId": "70d7afe7-80ca-4bd9-d863-cb7305e2d4f5"
      },
      "execution_count": 82,
      "outputs": [
        {
          "output_type": "stream",
          "name": "stdout",
          "text": [
            "Epoch 1/10\n",
            "6000/6000 [==============================] - 464s 77ms/step - loss: 0.7119 - accuracy: 0.6729 - val_loss: 0.4098 - val_accuracy: 0.8422\n",
            "Epoch 2/10\n",
            "6000/6000 [==============================] - 402s 67ms/step - loss: 0.4083 - accuracy: 0.8317 - val_loss: 0.2859 - val_accuracy: 0.8910\n",
            "Epoch 3/10\n",
            "6000/6000 [==============================] - 397s 66ms/step - loss: 0.3209 - accuracy: 0.8696 - val_loss: 0.1984 - val_accuracy: 0.9264\n",
            "Epoch 4/10\n",
            "6000/6000 [==============================] - 411s 68ms/step - loss: 0.2752 - accuracy: 0.8896 - val_loss: 0.1716 - val_accuracy: 0.9367\n",
            "Epoch 5/10\n",
            "6000/6000 [==============================] - 400s 67ms/step - loss: 0.2476 - accuracy: 0.9022 - val_loss: 0.1481 - val_accuracy: 0.9456\n",
            "Epoch 6/10\n",
            "6000/6000 [==============================] - 403s 67ms/step - loss: 0.2276 - accuracy: 0.9107 - val_loss: 0.1325 - val_accuracy: 0.9531\n",
            "Epoch 7/10\n",
            "6000/6000 [==============================] - 384s 64ms/step - loss: 0.2116 - accuracy: 0.9177 - val_loss: 0.1193 - val_accuracy: 0.9581\n",
            "Epoch 8/10\n",
            "6000/6000 [==============================] - 406s 68ms/step - loss: 0.1996 - accuracy: 0.9225 - val_loss: 0.1151 - val_accuracy: 0.9571\n",
            "Epoch 9/10\n",
            "6000/6000 [==============================] - 416s 69ms/step - loss: 0.1908 - accuracy: 0.9263 - val_loss: 0.1057 - val_accuracy: 0.9610\n",
            "Epoch 10/10\n",
            "6000/6000 [==============================] - 422s 70ms/step - loss: 0.1821 - accuracy: 0.9297 - val_loss: 0.0971 - val_accuracy: 0.9659\n"
          ]
        }
      ]
    },
    {
      "cell_type": "code",
      "source": [
        "gram2_model = define_model(50, authors_count, max_2gram + 1, 300)"
      ],
      "metadata": {
        "id": "TYwFSa2BLt35"
      },
      "execution_count": null,
      "outputs": []
    },
    {
      "cell_type": "code",
      "source": [
        "gram2_model_history = gram2_model.fit([gram2_train, gram2_train, gram2_train], author_train_hot, epochs=10, batch_size=32, verbose=1, validation_split=0.2)"
      ],
      "metadata": {
        "id": "pjEiRj80LSif"
      },
      "execution_count": null,
      "outputs": []
    }
  ]
}